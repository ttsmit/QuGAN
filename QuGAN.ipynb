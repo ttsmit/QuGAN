{
 "cells": [
  {
   "cell_type": "markdown",
   "id": "75f17555-4f68-44b0-b7d4-f41343ee7ee1",
   "metadata": {
    "tags": []
   },
   "source": [
    "# QGAN demonstration\n",
    "\n",
    "We create a QGAN for learning a three qubit normal distribution with a classical determinator, by extending the tutorial from qiskit: https://learn.qiskit.org/course/machine-learning/quantum-generative-adversarial-networks.\n",
    "We will be following the article: 'Quantum Generative Adversarial Networks for learning\n",
    "and loading random distributions' by Christa Zoufal, Aurélien Lucchi and Stefan Woerner, which was published by Nature in 2019. Link: https://www.nature.com/articles/s41534-019-0223-2.pdf\n",
    "\n",
    "Let's start with importing the necessary modules:\n",
    "\n",
   ]
  },
  {
   "cell_type": "code",
   "execution_count": null,
   "id": "a3e086e6-56a0-46ec-950d-df230f671cfb",
   "metadata": {
    "scrolled": true,
    "tags": []
   },
   "outputs": [],
   "source": [
    "import numpy as np\n",
    "from qiskit import QuantumCircuit, Aer, execute\n",
    "from qiskit.visualization import plot_histogram\n",
    "\n",
    "from qiskit.circuit import Parameter, ParameterVector\n",
    "from qiskit.circuit.library import TwoLocal\n",
    "from qiskit.quantum_info import Statevector\n",
    "\n",
    "from qiskit.utils import QuantumInstance\n",
    "from qiskit_machine_learning.neural_networks import CircuitQNN, OpflowQNN\n",
    "from qiskit.providers.aer import QasmSimulator\n",
    "from qiskit_machine_learning.connectors import TorchConnector\n",
    "\n",
    "import pickle\n",
    "import matplotlib.pyplot as plt\n",
    "from qiskit_finance.circuit.library import NormalDistribution\n",
    "\n",
    "from qiskit_machine_learning.algorithms import PyTorchDiscriminator\n",
    "\n",
    "qi = QuantumInstance(Aer.get_backend('aer_simulator_statevector'))\n"
   ]
  },
  {
   "cell_type": "code",
   "execution_count": 2,
   "id": "df3202eb-a908-445a-906d-8caf0b9cfdec",
   "metadata": {},
   "outputs": [],
   "source": [
    "# Pytorch imports\n",
    "import torch\n",
    "import torch.nn as nn\n",
    "import torch.optim as optim\n",
    "import torchvision\n",
    "import torchvision.transforms as transforms\n",
    "from torch.utils.data import Dataset, DataLoader"
   ]
  },
  {
   "cell_type": "markdown",
   "id": "bb0263c2-3e7c-448a-adfd-2aefb7c6525e",
   "metadata": {},
   "source": [
    "## The real circuit\n",
    "\n",
    "We use the qiskit_finance module to define the real distribution as a normal distribution with $\\mu = 0$ and $\\sigma=0.2$. The circuit is visualized below:"
   ]
  },
  {
   "cell_type": "code",
   "execution_count": 3,
   "id": "ebd9892e-c6d4-4d9d-b949-069bf71615aa",
   "metadata": {},
   "outputs": [
    {
     "data": {
      "text/html": [
       "<pre style=\"word-wrap: normal;white-space: pre;background: #fff0;line-height: 1.1;font-family: &quot;Courier New&quot;,Courier,monospace\">     ┌───────────────────────┐                         ┌───┐»\n",
       "q_0: ┤ multiplex1_reverse_dg ├─────────────────────────┤ X ├»\n",
       "     └──────┬─────────┬──────┘┌───┐┌─────────────┐┌───┐└─┬─┘»\n",
       "q_1: ───────┤ Ry(π/2) ├───────┤ X ├┤ Ry(0.67912) ├┤ X ├──■──»\n",
       "           ┌┴─────────┴─┐     └─┬─┘└─────────────┘└─┬─┘     »\n",
       "q_2: ──────┤ R(π/2,π/2) ├───────■───────────────────■───────»\n",
       "           └────────────┘                                   »\n",
       "«     ┌───────────────────────────────┐┌───┐»\n",
       "«q_0: ┤ multiplex1_reverse_reverse_dg ├┤ X ├»\n",
       "«     └───────────────────────────────┘└─┬─┘»\n",
       "«q_1: ───────────────────────────────────┼──»\n",
       "«                                        │  »\n",
       "«q_2: ───────────────────────────────────■──»\n",
       "«                                           »\n",
       "«     ┌───────────────────────────────────────┐┌───┐»\n",
       "«q_0: ┤ multiplex1_reverse_reverse_reverse_dg ├┤ X ├»\n",
       "«     └───────────────────────────────────────┘└─┬─┘»\n",
       "«q_1: ───────────────────────────────────────────■──»\n",
       "«                                                   »\n",
       "«q_2: ──────────────────────────────────────────────»\n",
       "«                                                   »\n",
       "«     ┌───────────────────────────────┐┌───┐\n",
       "«q_0: ┤ multiplex1_reverse_reverse_dg ├┤ X ├\n",
       "«     └───────────────────────────────┘└─┬─┘\n",
       "«q_1: ───────────────────────────────────┼──\n",
       "«                                        │  \n",
       "«q_2: ───────────────────────────────────■──\n",
       "«                                           </pre>"
      ],
      "text/plain": [
       "     ┌───────────────────────┐                         ┌───┐»\n",
       "q_0: ┤ multiplex1_reverse_dg ├─────────────────────────┤ X ├»\n",
       "     └──────┬─────────┬──────┘┌───┐┌─────────────┐┌───┐└─┬─┘»\n",
       "q_1: ───────┤ Ry(π/2) ├───────┤ X ├┤ Ry(0.67912) ├┤ X ├──■──»\n",
       "           ┌┴─────────┴─┐     └─┬─┘└─────────────┘└─┬─┘     »\n",
       "q_2: ──────┤ R(π/2,π/2) ├───────■───────────────────■───────»\n",
       "           └────────────┘                                   »\n",
       "«     ┌───────────────────────────────┐┌───┐»\n",
       "«q_0: ┤ multiplex1_reverse_reverse_dg ├┤ X ├»\n",
       "«     └───────────────────────────────┘└─┬─┘»\n",
       "«q_1: ───────────────────────────────────┼──»\n",
       "«                                        │  »\n",
       "«q_2: ───────────────────────────────────■──»\n",
       "«                                           »\n",
       "«     ┌───────────────────────────────────────┐┌───┐»\n",
       "«q_0: ┤ multiplex1_reverse_reverse_reverse_dg ├┤ X ├»\n",
       "«     └───────────────────────────────────────┘└─┬─┘»\n",
       "«q_1: ───────────────────────────────────────────■──»\n",
       "«                                                   »\n",
       "«q_2: ──────────────────────────────────────────────»\n",
       "«                                                   »\n",
       "«     ┌───────────────────────────────┐┌───┐\n",
       "«q_0: ┤ multiplex1_reverse_reverse_dg ├┤ X ├\n",
       "«     └───────────────────────────────┘└─┬─┘\n",
       "«q_1: ───────────────────────────────────┼──\n",
       "«                                        │  \n",
       "«q_2: ───────────────────────────────────■──\n",
       "«                                           "
      ]
     },
     "execution_count": 3,
     "metadata": {},
     "output_type": "execute_result"
    }
   ],
   "source": [
    "# Define number of qubits in the circuit.\n",
    "real_dist_nq = 3\n",
    "\n",
    "# The number of output states. This will be the input dimension for the discriminator.\n",
    "n_in = 2**real_dist_nq\n",
    "\n",
    "real_circ = NormalDistribution(real_dist_nq, mu=0, sigma=0.2)\n",
    "real_circ = real_circ.decompose().decompose().decompose()\n",
    "real_circ.draw()"
   ]
  },
  {
   "cell_type": "markdown",
   "id": "a1e5e3e8-954f-44c9-a166-93574f0c4fe6",
   "metadata": {},
   "source": [
    "Let's visualize the real distribution:"
   ]
  },
  {
   "cell_type": "code",
   "execution_count": 4,
   "id": "a00014bd-177e-46d2-80fa-d8b611f6aa57",
   "metadata": {},
   "outputs": [
    {
     "name": "stdout",
     "output_type": "stream",
     "text": [
      "{'000': 0.021118568263204296, '001': 0.0718544440143417, '010': 0.16254729287467568, '011': 0.24447969484777843, '100': 0.24447969484777854, '101': 0.16254729287467554, '110': 0.07185444401434163, '111': 0.021118568263204258}\n"
     ]
    },
    {
     "data": {
      "image/png": "iVBORw0KGgoAAAANSUhEUgAAAc0AAAFTCAYAAABbKVcuAAAAOXRFWHRTb2Z0d2FyZQBNYXRwbG90bGliIHZlcnNpb24zLjUuMiwgaHR0cHM6Ly9tYXRwbG90bGliLm9yZy8qNh9FAAAACXBIWXMAAAsTAAALEwEAmpwYAAA1v0lEQVR4nO3dfXhU1bn+8e8jkYgCyouCJCikEYRQgRAPoghoq1StHLUUtbbW1kpVqsX6dqzKz9OjlrYeak/V2qqnvlZttS1axWr1AGIpGFJQSBWUoCQWUF4EFIMJz++PtZMOYZLsQCYzE+7PdXGR2XvNnnuSmXlmr7322ubuiIiISPP2SXcAERGRbKGiKSIiEpOKpoiISEwqmiIiIjGpaIqIiMSkoikiIhKTiqZIBjOzcWZW2YL2s83sW9HP55nZ862YZZmZjYt+vsnMHm7FbX/fzO5tre2JpIqKpkgrMLNVZrbNzLaa2Rozu9/MOqczk7s/4u4nN9cuynpzjO0VufvsPc2V7IuAu9/q7t/a022LpJqKpkjrOd3dOwPDgOHAdemN0zrMLCfdGUQyhYqmSCtz9zXAnwnFEwAzO8bM/mpmm8xsSV03Z7TuG2b2DzPbYmYrzezbcR/LzE4yszfM7EMzuwOwhHUXmNm86Gczs5+a2Toz22xmr5vZEDObDJwHXBPtJT8dtV9lZtea2WvAR2aWEy37fMLD72dmj0e5y8xsaMJju5kVJty+38xuNrMDgFlAn+jxtppZn4bdvWY2IeoO3hR1OQ9KWLfKzK4ys9ei5/24me0X93cmsidUNEVamZnlA6cAb0W384BngJuB7sBVwJNmdnB0l3XAF4GuwDeAn5pZcYzH6Qn8HrgB6Am8DRzXSPOTgTHAAOBAYBKw3t1/BTwC/NjdO7v76Qn3ORc4DTjI3WuSbPPfgd9Fz+k3wB/NbN+mMrv7R4TfzXvR43V29/caPK8BwKPAVOBg4FngaTPrmNBsEvAFoD9wFHBBU48r0lpUNEVazx/NbAuwmlAI/1+0/KvAs+7+rLvvcPcXgFLgVAB3f8bd3/ZgDvA8cHyMxzsVWObuT7j7p8DtwJpG2n4KdAGOBMzd/+Hu/2xm+//j7qvdfVsj6xclPPYMYD/gmBi5m3M28Iy7vxBt+zagE3Bsg2zvufsG4GkS9upFUklFU6T1nOHuXYBxhOLUM1p+OPDlqKtxk5ltAkYDhwKY2Slm9jcz2xCtOzXhvk3pQyjQAHi4+sLqZA3d/SXgDuBOYJ2Z/crMujaz/aTbSrbe3XcAlVGmPdUHeKfBtlcDeQltEr8cfAykddCV7D1UNEVaWbS3eD9hDwnCB/5D7n5Qwr8D3H26meUCT0Zte7n7QYTuSEuy6Yb+CfStu2Fmlng7Sa7/cfcRwGBCN+3Vdasau0szj5/42PsA+UBdV+vHwP4JbXu3YLvvEb5o1G277nlVNXM/kZRT0RRJjduBk6LBMQ8Dp5vZeDPrYGb7Radd5AMdgVzgfaDGzE4hHH+M4xmgyMzOika4Xs7OxamemR1tZiOjY44fAZ8AO6LVa4GC3XiOIxIeeypQDfwtWrcY+Er0fL8AjE2431qgh5kd2Mh2fwucZmafi/JeGW37r7uRUaRVqWiKpIC7vw88CExz99WEQTPfJxTH1YS9vH3cfQuh2P0W2Ah8BXgq5mN8AHwZmA6sB44AXmmkeVfgnugx3ona/yRadx8wOOo6/mMLnuZMwvHHjcDXgLOiY5AA3wVOBzYRRufWb9fd3yAM9FkZPeZOXbru/ibhOPDPgQ+i7Zzu7ttbkE0kJUwXoRYREYlHe5oiIiIxqWiKiIjEpKIpIiISk4qmiIhITCqaIiIiMe3VVy/o2bOn9+vXL90xREQkgyxatOgDdz842bq9umj269eP0tLSdMcQEZEMYmbvNLZO3bMiIiIxqWiKiIjEpKIpIiISk4qmiIhITCqaIiIiMaloioiIxKSiKSIiEpOKpoiISEwqmiIiIjGpaIqIiMSkoikiIhKTiqaIiEhMKpoiIiIxqWiKiIjEpKIpIiISk4qmiIhITCqaIiIiMaloioiIxKSiKSIiEpOKpoiISEwqmiIiIjGpaIqIiMSkoimSBs899xwDBw6ksLCQ6dOn77J+xowZDB48mKOOOorPfe5zvPPOOzut37x5M/n5+XznO9/Z5b4TJkxgyJAhKcsO2Z9fZHepaIq0sdraWqZMmcKsWbMoLy/n0Ucfpby8fKc2w4cPp7S0lNdee42JEydyzTXX7LT+xhtvZMyYMbts+/e//z2dO3dWfpEUUdEUaWMLFy6ksLCQgoICOnbsyDnnnMPMmTN3anPCCSew//77A3DMMcdQWVlZv27RokWsXbuWk08+eaf7bN26lRkzZnDDDTcov0iKqGiKtLGqqir69u1bfzs/P5+qqqpG2993332ccsopAOzYsYMrr7yS2267bZd2N954I1deeWV9sUqVbM8vsidUNEUy2MMPP0xpaSlXX301AHfddRennnoq+fn5O7VbvHgxb7/9NmeeeWY6YjYq2/OLNJST7gAie5u8vDxWr15df7uyspK8vLxd2v3lL3/hlltuYc6cOeTm5gIwf/58Xn75Ze666y62bt3K9u3b6dy5M4cffjilpaX069ePmpoa1q1bx7hx45g9e7byi7Qmd99r/40YMcJF2tqnn37q/fv395UrV3p1dbUfddRRvnTp0p3alJWVeUFBgS9fvrzR7fz617/2KVOm7LK8oqLCi4qKWj13nWzPL9IcoNQbqRvqnhVpYzk5Odxxxx2MHz+eQYMGMWnSJIqKipg2bRpPPfUUAFdffTVbt27ly1/+MsOGDWPChAlpTv0v2Z5fZE9YKKp7p5KSEi8tLU13DBERySBmtsjdS5Kt056miIhITCqaIiIiMaloioiIxKSiKSIiEpOKpoiISEwqmiIiIjGpaIqIiMSkoikiIhKTiqaIiEhMKpoiIiIxqWiKiIjEpKIpIiISU5tfT9PMLgWuBg4FlgFT3f3lRtqeBVwMDAf2A8qBW9z9qUbanwv8BnjG3b+Ygvgireai21O7/Xumpm7b2ZxdZE+06Z6mmZ0N/Ay4lVAI/wrMMrPDGrnLWOAl4LSo/bPAH8zs+CTbLgB+AiQtwCIiInuqrbtnvwfc7+73uPs/3P0y4J/AJckau/t33X26uy9097fc/T+BRcAZie3MbF/gUeB6YGVKn4GIiOy12qxomllHYATwfINVzwPHtmBTXYCNDZbdAqxy9wd2P6GIiEjT2vKYZk+gA7C2wfK1wOfjbMDMpgD5wEMJy04GJgHDWiWliIhII9p8INDuMrMvEY5Znu3u70TLDgbuB851900xtzMZmAzQp08fZs+eDUBBQQFdunRhyZIlAPTo0YOioiLmzp0LQE5ODqNHj6asrIzNmzcDUFJSwtq1a1m9ejUARxxxBLm5uSxduhSAQw45hAEDBjBv3jwAcnNzGTVqFKWlpWzduhWAkSNHUllZSVVVFQADBw6kQ4cOlJeXA9C7d2/69+/P/PnzAejUqRMjR45kwYIFbNu2DYBRo0ZRUVHBmjVrABg8eDC1tbW8+eabAOTl5ZGfn8+CBQsA6Ny5MyUlJcyfP5/q6moARo8ezfLly1m3bh0AQ4YMobq6mhUrVgDQt29fevXqRWlpKQBdu3aluLiYefPmUVNTA8CYMWNYtmwZ69evB2Do0KFs2bKFlStDj3m/fv3o3r07ZWVlAHTr1o2hQ4cyZ84c3B0zY+zYsSxZsoSNG0NnQnFxMRs2bGDVqlXt7u8E40il2bNnp+zvFIYbpDZ7pvyd9H7KjvdTa/6dmmLu3mSD1hJ1z35MKHC/S1h+JzDE3Rt9F5rZROBB4Hx3fyJh+Tjg/4DahOZ1Xc47gCJ3f7Ox7ZaUlHjdi1akrWXzCNRszi7SHDNb5O4lyda12TFNd99OGMRzUoNVJxFG0SZlZpMI3bEXJBbMyKvAZwlds3X/niKMoB0GVOxxcBERkUhbd8/OAB4ys4XAK4RzMPsAdwOY2YMA7n5+dPscQsG8CphrZr2j7Wx39w3u/hGwNPEBzGwTkOPuOy0XERHZU21aNN39cTPrAdxAmNxgKXBq3TFKoOH5mhcTMt4e/aszh1QfEBIREWmgzQcCuftdwF2NrBvX1O2Y279gd3KJiIg0R3PPioiIxKSiKSIiEpOKpoiISEwqmiIiIjGpaIqIiMSkoikiIhKTiqaIiEhMKpoiIiIxqWiKiIjEpKIpIiISk4qmiIhITCqaIiIiMaloioiIxKSiKSIiEpOKpoiISEwqmiIiIjGpaIqIiMSkoikiIhKTiqaIiEhMKpoiIiIxqWiKiIjEpKIpIiISk4qmiIhITCqaIiIiMaloioiIxKSiKSIiEpOKpoiISEwqmiIiIjGpaIqIiMSkoikiIhKTiqaIiEhMKpoiIiIxqWiKiIjEpKIpIiISk4qmiIhITCqaIiIiMaloioiIxKSiKSIiEpOKpoiISEwqmiIiIjG1qGia2T5mtk/C7d5m9i0zO671o4mIiGSWlu5pPgNcBmBmnYFS4CfAbDM7v5WziYiIZJSWFs0S4KXo57OAzcAhwEXAVa2YS0REJOO0tGh2BjZFP58M/MHdPyUU0s+0Yi4REZGM09Ki+S5wnJkdAIwHXoiWdwc+bs1gIiIimaalRXMG8BBQCVQBc6PlY4DX42zAzC41swoz+8TMFpnZ8U20PdTMfmNmb5hZrZnd30i770ZttplZpZndGR1zFRERaTUtKpru/ktgFPBNYLS774hWvQ3c2Nz9zexs4GfArcBw4K/ALDM7rJG75AIfANOBBY1s8yvAj4FbgEHA+cCp0eOIiIi0mpyW3sHdSwmjZhOXPRPz7t8D7nf3e6Lbl5nZF4BLgOuSPNYq4HIAM5vYyDaPBf7m7g9Ft1eZ2YPAl2JmEhERiaXFkxtE3avLzOxjMyuIll1rZpOauV9HYATwfINVzxMK3+6aBwwzs2OixzkMmAA8uwfblCzw3HPPMXDgQAoLC5k+ffou6+fOnUtxcTE5OTk88cQTO6179913Ofnkkxk0aBCDBw9m1apVAFx44YUMHTqUo446iokTJ7J169a2eCrShvS6kT1h7h6/sdlU4BrgR4Qu0yJ3X2lmXwMucvcxTdy3D+E46Fh3n5uwfBpwnrsPbOax/wR84O4XJFk3BfgpYIS954eAr3uSJ2dmk4HJAH369BnxyCOPAFBQUECXLl1YsmQJAD169KCoqIi5c0PUnJwcRo8eTVlZGZs3bwagpKSEtWvXsnr1agCOOOIIcnNzWbp0KQCHHHIIAwYMYN68eQDk5uYyatQoSktL699UI0eOpLKykqqqKgAGDhxIhw4dKC8vB6B3797079+f+fPnA9CpUydGjhzJggUL2LZtGwCjRo2ioqKCNWvWADB48GBqa2t58803AcjLyyM/P58FC0IPd+fOnSkpKWH+/PlUV1cDMHr0aJYvX866desAGDJkCNXV1axYsQKAvn370qtXL0pLQydD165dKS4uZt68edTU1AAwZswYli1bxvr16wEYOnQoW7ZsYeXKlQD069eP7t27U1ZWBkC3bt0YOnQoc+bMwd0xM8aOHcuSJUvYuHEjAMXFxWzYsKH+w6nu71RWVsb555/PvffeywknnEBRURE33ngjhYWF9X+n5cuX89FHH/Hiiy9y7LHHMmTIkPq/06RJkzjzzDMpKSnhgAMOYODAgZSVlfHRRx/RvXt3Ro0axXnnnccBBxzAV77ylZT8nR5ZPK7hy7NVnTdsdsr+Tg//fWzKs6fi/XTwwQdz+umnc/PNN3PwwQdz6aWXMnPmTLZs2VL/dzr00EN54403uPPOOznuuOO45JJL6t9PU6dOZerUqZx99tnMnj0bM6Nnz54MGDCAZcuWUV1dzZ133snw4cM544wzsub9pM+9nf9O+fn5i9y9JNlrs6VF8w3gSnd/xsy2AEOjolkEzHX3Hk3cNyVF08zGAo8DNxCOexYSjmfe7+7TmtpmSUmJ171oJbvMnz+fm266iT//+c8A/PCHPwTguut26eXnggsu4Itf/CITJ4Ye/vLyciZPnlz/pk7G3bn00kvp168f1157bQqeAVx0e0o2W++eqanbdrZmbw+vG0k9M2u0aLa0e/ZwYGmS5Z8CnZq57wdALdCrwfJewJoW5kh0M/Cou9/r7q+7+x+A7wPXmFmLj9lKdqiqqqJv3771t/Pz8+u/tTZn+fLlHHTQQZx11lkMHz6cq6++mtra2vr13/jGN+jduzdvvPEGl112Watnl/TR60b2VEuL5kqgOMnyU4Hypu7o7tuBRcBJDVadRBhFu7v2JxTjRLWErlqRXdTU1PDyyy9z22238eqrr7Jy5Uruv//++vW//vWvee+99xg0aBCPP/54+oJKRtHrRqDlRfM24A4zO49QlEaZ2f8jnO7xkxj3nwFcEE3yPsjMfgb0Ae4GMLMHo5Gv9cxsmJkNA7oC3aPbgxOaPA1MNrNzzKy/mZ0E/BfwJ3evaeHzkyyRl5dXf0wFoLKykry8vFj3zc/PZ9iwYRQUFJCTk8MZZ5xRf1yoTocOHTjnnHN48sknWzW3pJdeN7KnWtR96e6/jro8byXs4T0EvAdc7u7NfrVy98fNrAfh+OOhhK7eU939nahJsvM1/97g9unAO0C/6PbNgBMKZT6hG/hp4Pr4z0yyzdFHH82KFSuoqKggLy+Pxx57jN/85jex77tp0ybef/99Dj74YF566SVKSkpwd95++20KCwtxd5566imOPPLIFD8TaUt63cieatFAoJ3uaNYT2Mfd17VupLajgUDZ7dlnn2Xq1KnU1tbyzW9+k+uvv55p06ZRUlLChAkTePXVVznzzDPZuHEj++23H71792bZsmUAvPDCC1x55ZW4OyNGjOBXv/oVOTk5HH/88WzevBl3Z+jQofziF7+ga9euKcmfrYNpILuzZ/vrRlKvqYFAu1002wMVTUmnbC482ZxdpDlNFc1mu2fN7DXCaSIbzex1QldoUu5+1O7HFBERyWxxjmk+CVQn/Lz37pqKiMherdmi6e7/mfDzTSlNIyIiksFadMqJmb1kZgclWd7VzF5qtVQiIiIZqKXnaY4DOiZZvh/Q6HUxRURE2oNY52maWeIsQEeZ2YaE2x2A8YR5ZUVERNqtuJMblBIGADm7XtoLYBugyRZFRKRdi1s0+xOmzVsJ/BvwfsK67cA6d284/6uIiEi7EqtoJkxz1+KLVoukUipPstcJ9u2XXjeyu+JMbnAW8LS7fxr93Ch3/32rJRMREckwcfY0nwB6A+uinxvjhEFBIiIi7VKcyQ32SfaziIjI3kZFUEREJKa4xzRj0TFNERFpz+Ie04xDxzRFRKRda9ExTRERkb2ZCqKIiEhMOk9TREQkJp2nKSIiEpPO0xQREYlJRVBERCSmFhdNMys2swfNrDT691CD622KiIi0Sy0qmmZ2HvAqcCjwbPSvF7DQzL7a+vFEREQyR9zrada5BbjR3W9NXGhm1wE3Aw+3VjAREZFM09Lu2YOB3yZZ/jvgkD2PIyIikrlaWjT/DxiXZPk4YM6ehhEREclkLZ2wfRbwQzMrAf4WLTsGOAu4qdXTiYiIZJDdnbB9cvQv0c+Bu/Y4kYiISIbShO0iIiIxqSCKiIjE1NJTTjCzbsApwGFAx8R17v6DVsolIiKScVpUNM3sGOAZoJpw+kkVYaKDamAVoKIpIiLtVku7Z38CPALkAZ8AJxL2OEuBH7VuNBERkczS0qJ5FHCHuztQC+S6+1rgWnTKiYiItHMtLZrbE35eCxwe/bwV6NMqiURERDJUSwcClQFHA8uB2cDNZtYL+CrwWutGExERySwt3dO8Hngv+vkG4H3CpAbd2HWyAxERkXalRXua7l6a8PP7hFNPRERE9gotPk8TwMw+AwyKbpa7+8rWiyQiIpKZWnqeZg/gPmACsONfi+1PwDfdfX0r5xMREckYLT2meS9QCBwP7Bf9GwP0B+5p3WgiIiKZpaXds+OBz7n7/IRlr5jZt4G/tF4sERGRzNPSPc33gY+SLP8YUNesiIi0ay0tmj8AbjezvLoF0c//Tcx5Z83sUjOrMLNPzGyRmR3fRNtDzew3ZvaGmdWa2f1J2lxkZi+b2UYz22Rm/2dmo1v4vERERJrVbPesmb0OeMKi/sAqM6uKbtfNQ3sI4ZhnU9s6G/gZcCkwL/p/lpkNdvd3k9wlF/gAmE7j54GOAx4HLifs8V4B/NnMhrn7iuaen4iISFxxjmk+0YqP9z3gfnevGzR0mZl9AbgEuK5hY3dfRSiGmNnEZBt09/MSb5vZJcAZwBcAFU0REWk1zRZNd//P1nggM+sIjABua7DqeeDY1niMSEfCqN6NrbhNERGR3Z7c4ERgMKHbdpm7z45xt55AB8JE74nWAp/fnRyNuJkwgfxTrbhNERGRFk9ukAf8gbDHWDcHbR8zKwXOdPf3Gr1zGzCz7wLfBj7v7psbaTOZ6Phonz59mD17NgAFBQV06dKFJUuWANCjRw+KioqYO3cuADk5OYwePZqysjI2bw6bLikpYe3ataxevRqAI444gtzcXJYuXQrAIYccwoABA5g3bx4Aubm5jBo1itLSUrZu3QrAyJEjqayspKoqHCIeOHAgHTp0oLy8HIDevXvTv39/5s8PZ/l06tSJkSNHsmDBArZt2wbAqFGjqKioYM2aNQAMHjyY2tpa3nzzTQDy8vLIz89nwYIFAHTu3JmSkhLmz59PdXU1AKNHj2b58uWsW7cOgCFDhlBdXc2KFaGHu2/fvvTq1YvS0jCTYteuXSkuLmbevHnU1NQAMGbMGJYtW8b69WEg9dChQ9myZQsrV4YJo/r160f37t0pKysDoFu3bgwdOpQ5c+bg7pgZY8eOZcmSJWzcGDoKiouL2bBhA6tWrUr6dwqHtFMj1X+nVGYHmD17dsr+TjA25dlT+X4KwyVSlz1b30/63BtSv64xFi6NGY+ZPUm4BNhX3L0iWlYAPAy85+5JjztG7ToSBuqc6+6/S1h+JzDE3Zt8F0azDn3g7hc0sn4q8F/AKe4+L87zKSkp8boXrWSni25P3bbvmZq6bUNqs0Nq82dzdsju142knpktcveSZOtaesrJScCUuoIJEM07e3m0rlHuvh1YlKTdScBfW5hjJ2b2PULBPC1uwRQREWmp3TmmmWzXNO7u6gzgITNbCLwCXEzYc70bwMweBHD38+vuYGbDoh+7Ajui29vdvTxafzVwC+GansvNrHfUfpu7fxj/aYmIiDStpUXzReDnZnauu68GMLPDgNujdU1y98ejSd9vAA4FlgKnuvs7UZPDktzt7w1unw68A/SLbk8B9iWcq5noAeCC5jKJiIjE1dKieTlhVOpKM6sfCAS8DpwbZwPufhdwVyPrxiVZZs1sr1+cxxUREdlTLS2a64F/Iwz7OzJa9g9312TtIiLS7sUummbWAfgQGOruLwAvpCyViIhIBoo9etbdawnHEjumLo6IiEjmaukpJ/8FTDeznqkIIyIikslaekzzKsJVTqrMrJIG19Z096NaK5iIiEimaWnRfIJwTmaTI1pFRETao1hF08z2B35CuOTWvoRzMi9z9w9SF01ERCSzxD2m+Z+EiQKeAR4lXJXkFynKJCIikpHids+eBVzo7o8BmNkjwCtm1iEaVSsiItLuxd3T7Au8XHfD3RcCNYTZgERERPYKcYtmB2B7g2U17OZFrEVERLJR3KJnwMNmlnh1zv2Ae8zs47oF7j6hNcOJiIhkkrhF84Ekyx5uzSAiIiKZLlbRdPdvpDqIiIhIpmvpNHoiIiJ7LRVNERGRmFQ0RUREYlLRFBERiUlFU0REJCYVTRERkZhUNEVERGJS0RQREYlJRVNERCQmFU0REZGYVDRFRERiUtHcyz333HMMHDiQwsJCpk+fvsv66upqzj77bAoLCxk5ciSrVq0C4JFHHmHYsGH1//bZZx8WL17Mxx9/zGmnncaRRx5JUVER//Ef/9HGz0ik/dL7Nf1UNPditbW1TJkyhVmzZlFeXs6jjz5KeXn5Tm3uu+8+unXrxltvvcUVV1zBtddeC8B5553H4sWLWbx4MQ899BD9+/dn2LBhAFx11VW88cYb/P3vf+eVV15h1qxZbf3URNodvV8zg4rmXmzhwoUUFhZSUFBAx44dOeecc5g5c+ZObWbOnMnXv/51ACZOnMiLL76Iu+/U5tFHH+Wcc84BYP/99+eEE04AoGPHjhQXF1NZWdkGz0akfdP7NTOoaO7Fqqqq6Nu3b/3t/Px8qqqqGm2Tk5PDgQceyPr163dq8/jjj3Puuefusv1Nmzbx9NNP87nPfS4F6UX2Lnq/ZgYVTdkjCxYsYP/992fIkCE7La+pqeHcc8/l8ssvp6CgIE3pRCSR3q97TkVzL5aXl8fq1avrb1dWVpKXl9dom5qaGj788EN69OhRv/6xxx5L+q118uTJHHHEEUydOjU14UX2Mnq/ZgYVzb3Y0UcfzYoVK6ioqGD79u089thjTJgwYac2EyZM4IEHHgDgiSee4MQTT8TMANixYwe//e1v64+P1Lnhhhv48MMPuf3229vkeYjsDfR+zQwqmnuxnJwc7rjjDsaPH8+gQYOYNGkSRUVFTJs2jaeeegqACy+8kPXr11NYWMiMGTN2GuY+d+5c+vbtu1N3TmVlJbfccgvl5eUUFxczbNgw7r333jZ/biLtjd6vmcEajqzam5SUlHhpaWm6Y8geuOj21G37nqmp2zakNjukNn82Z4fsft1I6pnZIncvSbZOe5oiIiIxqWiKiIjEpKIpIiISk4qmiIhITDnpDiDple0DOkT2NnrPppf2NEVERGJS0RQREYlJRVNERCQmFU0REZGYVDRFRERiUtEUERGJqc2LppldamYVZvaJmS0ys+ObaT82aveJma00s4uTtDnUzB4ws/ejduVmNjZ1z0JERPZGbVo0zexs4GfArcBw4K/ALDM7rJH2/YFno3bDgR8CPzezLyW0OQh4BTDgNGAQcBmwLmVPRERE9kptPbnB94D73f2e6PZlZvYF4BLguiTtLwbec/fLotv/MLORwFXAk9Gya4B/uvv5CferaP3oIiKyt2uzPU0z6wiMAJ5vsOp54NhG7jYqSfs/AyVmtm90+wxggZk9bmbrzGyxmX3H6q68KiIi0krack+zJ9ABWNtg+Vrg843cpzfwlyTtc6Lt/RMoAC4FfgpMB4YBP4/a3tFwg2Y2GZgM0KdPH2bPng1AQUEBXbp0YcmSJQD06NGDoqIi5s6dC4QLwI4ePZqysjI2b94MQElJCWvXrmX16tUAHHHEEeTm5rJ06VIADjnkEAYMGMC8efMAyM3NZdSoUZSWlrJ161YARo4cSWVlJVVVVQAMHDiQDh06UF5eHn4BvXvTv39/5s+fD0CnTp0YOXIkCxYsYNu2bQCMGjWKiooK1qxZA8DgwYOpra3lzTffBCAvL4/8/HwWLFgAQOfOnSkpKYm2OaqRX33rePfdd1m5ciUA/fr1o3v37pSVlQHQrVs3hg4dypw5c3B3zIyxY8eyZMkSNm7cCEBxcTEbNmxg1apVwK5/JxiXsuyp/julMjvA7Nmz6dq1K8XFxcybN4+amhoAxowZw7Jly1i/fj0AQ4cOZcuWLS36O0FqhwzMnj07pe8nyE1p9tGjR7N8+XLWrQtHiYYMGUJ1dTUrVqwAoG/fvvTq1Yu66/m25O8ESY9mtZodO3a0+8+96upqgEb/Tk1ps4tQm1kfoAoY6+5zE5ZPA85z94FJ7rMceNjdf5CwbAwwB+jj7v80s+1Aqbsfm9DmVuBMdx/UVCZdhDr757HM5osJZ/PvPpuzg143TdHcs5lzEeoPgFqgV4PlvYA1uzaHaHmy9jXR9iDsbZY3aPMPUv11TERE9jptVjTdfTuwCDipwaqTCKNjk5nfSPtSd/80uv0K0HAvdQDwzu6nFRER2VVbn6c5A7jAzL5lZoPM7GdAH+BuADN70MweTGh/N5BnZrdH7b8FXADcltDmp8AxZna9mRWa2ZeBy4E72+IJiYjI3qNNTzlx98fNrAdwA3AosBQ41d3r9goPa9C+wsxOJRTGS4D3gMvd/cmENq+a2RmEcz9vBN6N/r8rxU9HRET2Mm1+EWp3v4tGCpq7j0uybA5Q3Mw2nwGeaY18IiIijdHcsyIiIjGpaIqIiMSkoikiIhKTiqaIiEhMKpoiIiIxqWiKiIjEpKIpIiISk4qmiIhITCqaIiIiMaloioiIxKSiKSIiEpOKpoiISEwqmiIiIjGpaIqIiMSkoikiIhKTiqaIiEhMKpoiIiIxqWiKiIjEpKK5h5577jkGDhxIYWEh06dP32V9dXU1Z599NoWFhYwcOZJVq1YB8MILLzBixAg++9nPMmLECF566aX6+1x//fX07duXzp07t9XTEBFJufbweamiuQdqa2uZMmUKs2bNory8nEcffZTy8vKd2tx3331069aNt956iyuuuIJrr70WgJ49e/L000/z+uuv88ADD/C1r32t/j6nn346CxcubNPnIiKSSu3l81JFcw8sXLiQwsJCCgoK6NixI+eccw4zZ87cqc3MmTP5+te/DsDEiRN58cUXcXeGDx9Onz59ACgqKmLbtm1UV1cDcMwxx3DooYe27ZMREUmh9vJ5qaK5B6qqqujbt2/97fz8fKqqqhptk5OTw4EHHsj69et3avPkk09SXFxMbm5u6kOLiKRBe/m8zEnLo0q9ZcuWce211/L888+nO4qISEbLhM9L7Wnugby8PFavXl1/u7Kykry8vEbb1NTU8OGHH9KjR4/69meeeSYPPvggn/nMZ9ouuIhIG2svn5cqmnvg6KOPZsWKFVRUVLB9+3Yee+wxJkyYsFObCRMm8MADDwDwxBNPcOKJJ2JmbNq0idNOO43p06dz3HHHpSO+iEibaS+flyqaeyAnJ4c77riD8ePHM2jQICZNmkRRURHTpk3jqaeeAuDCCy9k/fr1FBYWMmPGjPph1nfccQdvvfUWP/jBDxg2bBjDhg1j3bp1AFxzzTXk5+fz8ccfk5+fz0033ZSupygi0iray+eluXtKHyCTlZSUeGlpabpjpNVFt6d2+/dMTe32U5k/m7NDavNnc3bQ66Ypqc6fDcxskbuXJFunPU0REZGYVDRFRERi0iknrUDdJSIizWsPn5Xa0xQREYlJRVNERCQmFU0REZGYVDRFRERiUtEUERGJSUVTREQkJhVNERGRmFQ0RUREYlLRFBERiUlFU0REJCYVTRERkZhUNEVERGJS0RQREYlJRVNERCSmNi+aZnapmVWY2SdmtsjMjm+m/dio3SdmttLMLt7TbYqIiOyONi2aZnY28DPgVmA48Fdglpkd1kj7/sCzUbvhwA+Bn5vZl3Z3myIiIrurrfc0vwfc7+73uPs/3P0y4J/AJY20vxh4z90vi9rfAzwAXLUH2xQREdktbVY0zawjMAJ4vsGq54FjG7nbqCTt/wyUmNm+u7lNERGR3dKWe5o9gQ7A2gbL1wK9G7lP70ba50Tb251tioiI7BZz97Z5ILM+QBUw1t3nJiyfBpzn7gOT3Gc58LC7/yBh2RhgDtAHsN3Y5mRgcnRzIPBmKzy9luoJfJCGx20Nyp4+2Zw/m7NDdudX9pY73N0PTrYipw1DfADUAr0aLO8FrGnkPmsaaV8Tbc9auk13/xXwq9ipU8DMSt29JJ0Zdpeyp08258/m7JDd+ZW9dbVZ96y7bwcWASc1WHUSYcRrMvMbaV/q7p/u5jZFRER2S1vuaQLMAB4ys4XAK4TRsX2AuwHM7EEAdz8/an838B0zux34JXAccAFwbtxtioiItJY2LZru/riZ9QBuAA4FlgKnuvs7UZPDGrSvMLNTgZ8STiF5D7jc3Z9swTYzUVq7h/eQsqdPNufP5uyQ3fmVvRW12UAgERGRbKe5Z0VERGJS0RQREYlJRTMNzMzSnUFERFpORTMNXAeS00JfVkRkT2kgUBsxs1zgKOBM4ENgGfAWsNrdPzIzUzFtG/pdtz0z28fdd6Q7x94o8Xev1/6eU9FsI2b2P8BZhCuwdAP6EU6h+SNwu7uvTFu4mMysA2FHOas+/MysMzAGOAfYCKwAlgNL3f29dGaLy8xygB3Z9ruXzGBmXdx9S7pztAcqmm3AzAYDfwMmAovcfb2ZHQxcCHybMLn8d4F7MvFboJmNcPdFDZZ1IHyIZ1zehszsAULRXEH4wtKXUDwXE37nL6UvXdPMbLS7z2uwLGsKqJn1Bb4JHA28TZjreRnwmrtvzNQ9n8Rc2fT7TmRmgwiXThxO6NV6F1gCzHX31VGbjPz9ZzIVzTZgZt8HvuDuY6LbOe5ek7D+VsJe6ImZtudjZkcQPujKCZdce8jd/56w3giTZAwHFkdTG2aM6AvLAsLUiq+6e62ZHQhMAr4FlAA/AG4mw74EmNmRhN/7R8AzwM/d/ZWE9QbsC4wHFrp7w6v9pFV0EfkngU7Aq8AQwrzQ64GXgRnu/nb6EjYu+lI7qMGFIIxwVaXaTHqdJGNmnwGeJVzx6RXgSMKX81xCAb3X3RteUjEjmFkvwvv1WXff0ES7fd3907ZLFmggUNv4B3ComRUCuHuNmeWY2X7R+nuAjwl7opnmXMIewgvAMcCfzOxvZnaNmfWNPjwOIexJH5LGnI05GVji7n+LCmZHd/8wumj5SGAKoXh+JgM/CM8i7BncCuQBc8xsjZndZmZ1eQ8CZgId0xezUdcSrkJ0gruf7+7FhGvkPgJ8Efibmf17OgM24SZgdvT7vtPMBntQ4+5uZvuY2WFm9uWo1yXTXEU4BHGau1/n7mcCZwD/QyiefzCzC9OYryk3AA8Cb5nZ78zs1GhMSD0zOwz4bsPlbUFFs23MJVyZ5U9mNsnMcqM33ycQpgskfIOtTmfIRgwkfGP9EXAR8H3CVIVfBeab2dOEeYH/4e6VaUvZuCXA4Wb2OQgXDoi+sHSK1v8OeIed5zPOFHmEvYRfAv8OnAj8L3AasMLMXgMeI/zuV6ctZeOKgDnuvia6aHyOu7/r7j9y98OBvwAXRwUo00Y2H02Yv/oXwGhgqZm9ZWbfN7PuUVft14EfuXttOoM24nCgzN23mFkHM+vg7mvd/f6ox+tu4CIz2z/NOZMpIXzeXEk4nPIHoMLMfm5mxVGbi4CL3b3tPzPdXf/a4B9hEvnH+Vc3582ED8EBwM+A94ED0p2zQeYc4CvAdQ2WdyfsMXwH+C2wA7gw3XkbeQ77EfaS/0mYzL9TkjaLgSnpztogUwfgVODSBss7EuZo/iKhh2IH8I10523kOdwU/W67JCzbt+5vQChGbwPHpDtrg9yHA38mXBxiH8KXl/HAnYTjgjsIX2Y2AFekO28jz+G7UdYjG7x2OkY/DwYqCL0Aac+bkLEP4Yvs5Oh2DqFr+drotVQLvE44ZPHddGTUMc02FE0s/0VCf30BYS+uG+Gi2r9098fSGK9ZyY4hmNlZwBNAZ3f/OD3JmhbtVd5C6P7eRuhKnglsBb5B+PAemKn5IfkpG2Y2HphFhv7uzWwE8DTh2rY3uftTDdYfSfgg7J5J+c2sK+HUsFXuPidheSfCh/oI4FLC66aLu29LS9AmRMeTf0/ovv8vd//fBuuHAGXAQRn2uz+AsDOxzt0XNFi3P+G4+FWEQxdp+d2raKaYmeUDhdHNjwh7mtsIRbMz4VjmB97EAe90aezcumg0Ya27u5ndBpS4+7g2DxhD1C1VG512Mho4nnBstpiwN/cXwgjaWWmMuYuou9KS/f4T2twEjHL38W0WLKa6UZnRcfwfE37ndQOAZhH2dCYCFe4+KX1Jm1Y3+McTBu5Fyx8B8jL1dQ/hNBPgh8B5hD385wmv9yGE98Ji/9dlGDNSstG9ZnY/YQzC8WnJpKKZOmZ2CWG4/VBCcVwJVAL/BzzhmXkcql5CwTdCl9Sb7r4mYb0RjrVVufur6UnZMmbWETiY8MVlP+BDd/8oval2j5mNA95392VpjtKkaMDb5wk9LP9GONa5gdC9/LBn9mX8gJ1HzhJGA88FfugJlynMFFHWfaIvi/sBnyWccnUi4ctiBfAw8PvE93MmMLN9COeCJy1M0d7+TOAX7v6HNg1Xl0FFMzWirti3gP8mDCY4mPDBMY7wLbvu2qDlmXiuVIOC/xHhuVQSujb/6O5vpjFes8ysU2LXTXNvxkzSMHu2iX7X/054zXciHLd82d0/jD7EndC19kEaYybVIPv+hNG/c9x9XUKbXODz7v5MelK2nCWcV21mB7r7h+nOtDvMbF9Cz9b8tGXIgs+QrGRmlwFf9XBaQ8N1owndJnnAv2Xah0czBX8QoXheERX8Dp5howfNrBth1OwzhG/Uf60rlonF08LJ35WeQTOlNJM98YT7QcA/3X1TurImE3UJ3gecQOidqCL0VHxM6Bp82N1XRG0zamq9JNkrCQX+E8K4g4fc/Y30JWxaVFD6A+94klGlmfjlvE5z2TOJTjlJne1Al+iAO2aWG3UN4mGGl/MIb8aT0xexUV8Blrv7ze6+3t3fcPc73H0iYQaj/Qmnz/TMtIIZ+SrhJPoRhG60t8zsB2Y20N3rvm33BX5D+EKQSZrKXlcw67J3T1/MRl1OGOB2qrv3IryW/ht4jTAIboaFiQPIpIIZaZj9POB2wmjNk4Ef12XPUFOAvwN3m9npZtY78RzS6HXf1cxOiYpUJmkyO4QBWmZ2Wt3naLpoTzNFor21OYTuzCvq9mZs58mT/0ro6vxx+pLuysy+TRiyPsndl0bdUe7RbD8WTix+DrjZ3X+TxqhJmdk9hGNP0wgncp9LGHRSQJiZ5n+BHsD17t45XTmTyebsAGb2MvAHd5/RYHkH4DjCntzb7v6FdORrSjZnBzCz+YQv4jnAsYRTTv5AGEX7etQ9fjFwgbsfk76ku8qm7NrTTIHoQPwGwswWJwHvmdl90RB8LMwk8lXCAfrfpi9po54gdE9NtTDRc7WHSQH2AXD3d4FNQH4aMyYVFfhywtVj1rn7a+5+HeGE6fHRupsIp6D8KG1Bk8jm7FA/qnop8KW6PTILJ9bv4+61HqakuxjIN7Oh6czaUDZnh/pp/z4ljAQ/nnCu6X2Evfu5wEtmdi0wlTCtZMbIuuyeASe0ttd/hHOkjiK82f5MOC9wK+F44duEc9fSnrNBZov+nUGYKWcL4QU8gvAl6zBCF+IWoF+68zbyHHKB3tHPHQgjCRPXjyN8KchPd9b2lD3Kd0z02v4R0CvJ+r7ReyAv3VnbWfZDgSuA8UnWDSdMzLA+eu1kVP5sy67u2VZmZocAXyNMAfUB4dSGTcA8QlftvoTTOJ5z9+VpitksMzuIUCCPJZzofVy0ag2hqD7k7jelJVwTEs4PLAA+8oRJzBPWTSN08xSkL+musjk71A+y2ocwYcSthK62JwkzYb1L+AL5RWCwux+drpzJZHP2OtHpGO7un0S9XcC/LnpvZrcQjtcOT1fGxmRTdhXNVmbhxNsiwkwoGwiDNT5LmC5vHXCDN5jpIlNke8FPyP89wu+6hjB93u8I56R9FL0hLwLec/c/pS1sA9mcPZnoS9cFhIFAwwg9E58Qjsv+MFPfA5D12ZOOkLUwm04Z8Gt3z7iufcie7CqarSj6UNtC+EY0N2HZYcBIwtU0CggDbMrSFrQR2VzwodH8wwlzV1YCP/HMvRzS/WRpdqifem5L4odetPe2H2HmqyGEveeMe/1kc3ZInj9Jm/2As4FHPYMu35eN2VU0W5GZFRGuOnGRu/8tyfpcwkTPL3gY4JEx2kHBbyx/PuFY1UWEAQbnZlr+bM5ex8x+CSyM/r3j7puTtOnmGXjh6WzODrHzH+QZdk4vZGn2dB9UbU//CLOfvAjMB46gwSCOqM1lhDkf0563Qa4iwvloSa84QRigUkronkp73t3I3zFT82dz9ijfuYRBGpsIU0X+kjChdiH/uqJJZ+CPwGfTnbe9ZG8i/5nAZxLy1009NyTdedtDdu1ptjIzO4ZwrbpthBfBi8BGd98a9c0/CHzi7l9NY8xdRAfi/0SYuOB8wvloDa+qcRnhEmDD2j5h07I5fzZnh53OLf0xoeB8nfDB9ybhWqwvEiYN+Jm7Z9TFsrM5O2R3/mzNrqKZAhZmAboRmECYt3U+4XqZnycM7viWu7+evoTJZWvBr5PN+bM1e3R+4zVAV3f/j4TlRYRu5YmEY4MHAQ+4+4XpyJlMNmeH7M6f1dlVNFMnGhF5GuGcx08IJ0//zjN7/sqsLPh1sjl/tma3MF9uL3d/w8IUZ596wgeLmZ0NPAoUu/viNMVMKpuzQ3bnz9bsKpptxDJscurmZGPBT5TN+bM5e51o9Kl5uDzVRYQutv3TnSuObM4O2Z0/G7KraEqzsq3gN5TN+bM5ex0z+x7hQs4/SXeWlsrm7JDd+TM1u4qmiKSUhStq1GZj8c/m7JDd+TM1u4qmiIhITLrKiYiISEwqmiIiIjGpaIqIiMSkoikiIhKTiqaIiEhMKpoiIiIx/X+sVc8WWUoX4gAAAABJRU5ErkJggg==\n",
      "text/plain": [
       "<Figure size 504x360 with 1 Axes>"
      ]
     },
     "execution_count": 4,
     "metadata": {},
     "output_type": "execute_result"
    }
   ],
   "source": [
    "real_prob_dict = Statevector(real_circ).probabilities_dict()\n",
    "plot_histogram(real_prob_dict, title='Real distribution')"
   ]
  },
  {
   "cell_type": "markdown",
   "id": "b7c60568-7313-43b9-ab2a-88bda372523b",
   "metadata": {},
   "source": [
    "## The generator\n",
    "\n",
    "Next let's define the generator circuit. We will use the TwoLocal circuit, which consists of alternating rotation and entanglement layers. The rotation layers consist of one-qubit gates and are applied to each qubit. The entanglement layer uses two-qubit gates according to a defined strategy. In this case we will use circular entanglement, as they define in the article. The depth of the circuit can be varied to change the number of parameters in the resulting neural network."
   ]
  },
  {
   "cell_type": "code",
   "execution_count": 5,
   "id": "7faede77-6d15-4d0f-9b69-a2d09fca2cd1",
   "metadata": {},
   "outputs": [
    {
     "data": {
      "text/html": [
       "<pre style=\"word-wrap: normal;white-space: pre;background: #fff0;line-height: 1.1;font-family: &quot;Courier New&quot;,Courier,monospace\">     ┌────────────┐ ░           ░ ┌────────────┐ ░           ░ ┌────────────┐»\n",
       "q_0: ┤ Ry(θ_g[0]) ├─░──■─────■──░─┤ Ry(θ_g[3]) ├─░──■─────■──░─┤ Ry(θ_g[6]) ├»\n",
       "     ├────────────┤ ░  │     │  ░ ├────────────┤ ░  │     │  ░ ├────────────┤»\n",
       "q_1: ┤ Ry(θ_g[1]) ├─░──■──■──┼──░─┤ Ry(θ_g[4]) ├─░──■──■──┼──░─┤ Ry(θ_g[7]) ├»\n",
       "     ├────────────┤ ░     │  │  ░ ├────────────┤ ░     │  │  ░ ├────────────┤»\n",
       "q_2: ┤ Ry(θ_g[2]) ├─░─────■──■──░─┤ Ry(θ_g[5]) ├─░─────■──■──░─┤ Ry(θ_g[8]) ├»\n",
       "     └────────────┘ ░           ░ └────────────┘ ░           ░ └────────────┘»\n",
       "«      ░           ░  ┌────────────┐ ░           ░ ┌─────────────┐ ░          »\n",
       "«q_0: ─░──■─────■──░──┤ Ry(θ_g[9]) ├─░──■─────■──░─┤ Ry(θ_g[12]) ├─░──■─────■─»\n",
       "«      ░  │     │  ░ ┌┴────────────┤ ░  │     │  ░ ├─────────────┤ ░  │     │ »\n",
       "«q_1: ─░──■──■──┼──░─┤ Ry(θ_g[10]) ├─░──■──■──┼──░─┤ Ry(θ_g[13]) ├─░──■──■──┼─»\n",
       "«      ░     │  │  ░ ├─────────────┤ ░     │  │  ░ ├─────────────┤ ░     │  │ »\n",
       "«q_2: ─░─────■──■──░─┤ Ry(θ_g[11]) ├─░─────■──■──░─┤ Ry(θ_g[14]) ├─░─────■──■─»\n",
       "«      ░           ░ └─────────────┘ ░           ░ └─────────────┘ ░          »\n",
       "«      ░ ┌─────────────┐ ░           ░ ┌─────────────┐\n",
       "«q_0: ─░─┤ Ry(θ_g[15]) ├─░──■─────■──░─┤ Ry(θ_g[18]) ├\n",
       "«      ░ ├─────────────┤ ░  │     │  ░ ├─────────────┤\n",
       "«q_1: ─░─┤ Ry(θ_g[16]) ├─░──■──■──┼──░─┤ Ry(θ_g[19]) ├\n",
       "«      ░ ├─────────────┤ ░     │  │  ░ ├─────────────┤\n",
       "«q_2: ─░─┤ Ry(θ_g[17]) ├─░─────■──■──░─┤ Ry(θ_g[20]) ├\n",
       "«      ░ └─────────────┘ ░           ░ └─────────────┘</pre>"
      ],
      "text/plain": [
       "     ┌────────────┐ ░           ░ ┌────────────┐ ░           ░ ┌────────────┐»\n",
       "q_0: ┤ Ry(θ_g[0]) ├─░──■─────■──░─┤ Ry(θ_g[3]) ├─░──■─────■──░─┤ Ry(θ_g[6]) ├»\n",
       "     ├────────────┤ ░  │     │  ░ ├────────────┤ ░  │     │  ░ ├────────────┤»\n",
       "q_1: ┤ Ry(θ_g[1]) ├─░──■──■──┼──░─┤ Ry(θ_g[4]) ├─░──■──■──┼──░─┤ Ry(θ_g[7]) ├»\n",
       "     ├────────────┤ ░     │  │  ░ ├────────────┤ ░     │  │  ░ ├────────────┤»\n",
       "q_2: ┤ Ry(θ_g[2]) ├─░─────■──■──░─┤ Ry(θ_g[5]) ├─░─────■──■──░─┤ Ry(θ_g[8]) ├»\n",
       "     └────────────┘ ░           ░ └────────────┘ ░           ░ └────────────┘»\n",
       "«      ░           ░  ┌────────────┐ ░           ░ ┌─────────────┐ ░          »\n",
       "«q_0: ─░──■─────■──░──┤ Ry(θ_g[9]) ├─░──■─────■──░─┤ Ry(θ_g[12]) ├─░──■─────■─»\n",
       "«      ░  │     │  ░ ┌┴────────────┤ ░  │     │  ░ ├─────────────┤ ░  │     │ »\n",
       "«q_1: ─░──■──■──┼──░─┤ Ry(θ_g[10]) ├─░──■──■──┼──░─┤ Ry(θ_g[13]) ├─░──■──■──┼─»\n",
       "«      ░     │  │  ░ ├─────────────┤ ░     │  │  ░ ├─────────────┤ ░     │  │ »\n",
       "«q_2: ─░─────■──■──░─┤ Ry(θ_g[11]) ├─░─────■──■──░─┤ Ry(θ_g[14]) ├─░─────■──■─»\n",
       "«      ░           ░ └─────────────┘ ░           ░ └─────────────┘ ░          »\n",
       "«      ░ ┌─────────────┐ ░           ░ ┌─────────────┐\n",
       "«q_0: ─░─┤ Ry(θ_g[15]) ├─░──■─────■──░─┤ Ry(θ_g[18]) ├\n",
       "«      ░ ├─────────────┤ ░  │     │  ░ ├─────────────┤\n",
       "«q_1: ─░─┤ Ry(θ_g[16]) ├─░──■──■──┼──░─┤ Ry(θ_g[19]) ├\n",
       "«      ░ ├─────────────┤ ░     │  │  ░ ├─────────────┤\n",
       "«q_2: ─░─┤ Ry(θ_g[17]) ├─░─────■──■──░─┤ Ry(θ_g[20]) ├\n",
       "«      ░ └─────────────┘ ░           ░ └─────────────┘"
      ]
     },
     "execution_count": 5,
     "metadata": {},
     "output_type": "execute_result"
    }
   ],
   "source": [
    "# Choose the depth k\n",
    "k = 6\n",
    "\n",
    "# Create entanglement map according to article:\n",
    "entanglement_map = [[0,1], [1, 2], [2, 0]]\n",
    "\n",
    "# We use Ry gates for the rotational layers and CZ for entanglement. \n",
    "gen_circ = TwoLocal(num_qubits = real_dist_nq, rotation_blocks=['ry'], entanglement_blocks='cz', \n",
    "                     entanglement=entanglement_map, reps=k, parameter_prefix='θ_g', insert_barriers=True,\n",
    "                     name='Generator')\n",
    "\n",
    "gen_circ = gen_circ.decompose()\n",
    "gen_circ.draw()"
   ]
  },
  {
   "cell_type": "markdown",
   "id": "743569c4-3bc0-43a6-95b4-6e62412ed95d",
   "metadata": {},
   "source": [
    "Let's visualize the initial probability distribution of the generator to have a point of comparison:"
   ]
  },
  {
   "cell_type": "code",
   "execution_count": 6,
   "id": "76327067-b09e-4230-b5c9-48b8294530bb",
   "metadata": {},
   "outputs": [
    {
     "data": {
      "image/png": "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\n",
      "text/plain": [
       "<Figure size 432x288 with 1 Axes>"
      ]
     },
     "metadata": {
      "needs_background": "light"
     },
     "output_type": "display_data"
    }
   ],
   "source": [
    "ng_params = gen_circ.num_parameters\n",
    "\n",
    "# Draw intial parameters from a uniform random distribution\n",
    "# init_gen_params = np.random.uniform(np.pi, -np.pi, size=(ng_params,))\n",
    "init_gen_params = np.full(ng_params, np.pi/2)\n",
    "\n",
    "init_gen_circ = gen_circ.bind_parameters(init_gen_params)\n",
    "init_prob_dict = Statevector(init_gen_circ).probabilities_dict()\n",
    "\n",
    "fig, ax1 = plt.subplots(1, 1, sharey=True)\n",
    "ax1.set_title(\"Initial generator distribution\")\n",
    "plot_histogram(init_prob_dict, ax=ax1)"
   ]
  },
  {
   "cell_type": "markdown",
   "id": "f7c26290-987c-4243-94e8-07b42efbaf71",
   "metadata": {},
   "source": [
    "Now we can create the neural network model based on the generator circuit. We use CircuitQNN to construct the network. Because we will have a classical discriminator, which we implement using PyTorch, we will use Torch Connector so that we can perform our training in PyTorch."
   ]
  },
  {
   "cell_type": "code",
   "execution_count": 7,
   "id": "5c6e7529-9f1f-47af-96ce-9964ace7a285",
   "metadata": {},
   "outputs": [],
   "source": [
    "# Define the quantum neural network. We will not use discriminator parameters as frozen input parameters since \n",
    "# the discriminator will be classical. The weights that the neural network will update are the generator circuit\n",
    "# parameters.\n",
    "\n",
    "gen_circ_qnn = CircuitQNN(circuit=gen_circ, input_params=[], weight_params=gen_circ.parameters, \n",
    "                          quantum_instance=qi)\n",
    "\n",
    "# Connection to PyTorch\n",
    "generator = TorchConnector(gen_circ_qnn)"
   ]
  },
  {
   "cell_type": "markdown",
   "id": "6e7de3fc-3b6b-4c18-bf3a-399a2f18a789",
   "metadata": {},
   "source": [
    "## The discriminator\n",
    "\n",
    "Next we create the discriminator. This will be a classical circuit. We recreate the qiskit machine learning module's PyTorchDiscriminator."
   ]
  },
  {
   "cell_type": "code",
   "execution_count": 8,
   "id": "a72fa38e-7cf2-4968-8955-37c79173140a",
   "metadata": {},
   "outputs": [],
   "source": [
    "device = torch.device('cpu')\n",
    "\n",
    "class Discriminator(nn.Module):\n",
    "    def __init__(self):\n",
    "        super().__init__()\n",
    "        self.model = nn.Sequential(\n",
    "            nn.Linear(n_in, 50, bias=True),\n",
    "            nn.LeakyReLU(0.2),\n",
    "            nn.Linear(50, 20, bias=True),\n",
    "            nn.LeakyReLU(0.2),\n",
    "            nn.Linear(20, 1, bias=True),\n",
    "            nn.Sigmoid()\n",
    "        )\n",
    "\n",
    "    def forward(self, x):\n",
    "        x = self.model(x)\n",
    "        return x\n"
   ]
  },
  {
   "cell_type": "code",
   "execution_count": 9,
   "id": "52e29771-f39c-45fc-8373-c95e4e43dbe3",
   "metadata": {},
   "outputs": [],
   "source": [
    "def get_params(module):\n",
    "    for p in module.parameters():\n",
    "        out = p.detach().numpy()\n",
    "    return out\n",
    "\n",
    "\n",
    "# Define helper to get KL divergence\n",
    "def calculate_KL(model_dist: dict, target_dist: dict):\n",
    "    KL = 0\n",
    "    for bitstring, p_data in target_dist.items():\n",
    "        if np.isclose(p_data, 0, atol=1e-8):\n",
    "            continue\n",
    "        if bitstring in model_dist.keys():\n",
    "            KL += (p_data * np.log(p_data)\n",
    "                 - p_data * np.log(model_dist[bitstring]))\n",
    "        else:\n",
    "            KL += p_data * np.log(p_data) - p_data * np.log(1e-6)\n",
    "    return KL"
   ]
  },
  {
   "cell_type": "markdown",
   "id": "e84f4d83-9db6-4ca3-b1ed-dbf53f2cac52",
   "metadata": {
    "tags": []
   },
   "source": [
    "## Training \n",
    "\n",
    "Now we can piece the QGAN together. We will use Adam as the optimizer and a binary cross-entropy loss function. In order to discriminate between real and fake samples, we define labels for them with 1 being the label for a real sample and 0 for a fake sample."
   ]
  },
  {
   "cell_type": "code",
   "execution_count": 10,
   "id": "3125487b-012e-42bf-8cb7-fa8c0f9f3bc1",
   "metadata": {},
   "outputs": [],
   "source": [
    "discriminator = Discriminator()\n",
    "\n",
    "# Optimizers\n",
    "discOptim = optim.Adam(discriminator.parameters(), lr=0.0002)\n",
    "genOptim = optim.Adam(generator.parameters(), lr=0.0002)\n",
    "\n",
    "# Loss function\n",
    "criterion = nn.BCELoss()\n",
    "\n",
    "# Labels\n",
    "real_label = torch.full((1,), 1.0, dtype=torch.float)\n",
    "fake_label = torch.full((1,), 0.0, dtype=torch.float)\n",
    "\n",
    "# We will train the discriminator a number of times each epoch\n",
    "dsteps = 5"
   ]
  },
  {
   "cell_type": "code",
   "execution_count": 11,
   "id": "93a927b1-abf1-45d9-a6cb-8a8f98a9faf7",
   "metadata": {
    "scrolled": true,
    "tags": []
   },
   "outputs": [
    {
     "name": "stdout",
     "output_type": "stream",
     "text": [
      "Epoch / Generator cost / Discriminator cost / KL Div\n",
      "     0            0.718                 1.39     1.4 \n",
      "    10            0.719                 1.39     1.4 \n",
      "    20            0.719                 1.39     1.4 \n",
      "    30            0.717                 1.38     1.4 \n",
      "    40            0.716                 1.38     1.4 \n",
      "    50            0.716                 1.38    1.39 \n",
      "    60            0.715                 1.37    1.38 \n",
      "    70            0.715                 1.37    1.37 \n",
      "    80            0.716                 1.37    1.35 \n",
      "    90            0.716                 1.36    1.33 \n",
      "   100            0.717                 1.36    1.31 \n",
      "   110            0.719                 1.35    1.28 \n",
      "   120            0.721                 1.35    1.26 \n",
      "   130            0.723                 1.34    1.23 \n",
      "   140            0.726                 1.34    1.19 \n",
      "   150            0.729                 1.32    1.16 \n",
      "   160            0.732                 1.31    1.13 \n",
      "   170            0.736                  1.3    1.09 \n",
      "   180             0.74                 1.29    1.05 \n",
      "   190            0.746                 1.27    1.01 \n",
      "   200            0.754                 1.26   0.968 \n",
      "   210            0.762                 1.24   0.928 \n",
      "   220             0.77                 1.23   0.892 \n",
      "   230            0.779                 1.22   0.857 \n",
      "   240            0.789                  1.2   0.826 \n",
      "   250              0.8                 1.19   0.795 \n",
      "   260            0.813                 1.17   0.768 \n",
      "   270            0.825                 1.15   0.743 \n",
      "   280            0.837                 1.14   0.719 \n",
      "   290            0.848                 1.12   0.695 \n",
      "   300            0.864                  1.1   0.673 \n",
      "   310             0.88                 1.08   0.653 \n",
      "   320            0.899                 1.07   0.633 \n",
      "   330            0.922                 1.04   0.616 \n",
      "   340            0.944                 1.02   0.598 \n",
      "   350            0.963                 1.01   0.578 \n",
      "   360            0.977                0.989   0.558 \n",
      "   370            0.987                0.972   0.536 \n",
      "   380            0.992                0.957   0.513 \n",
      "   390            0.994                0.943    0.49 \n",
      "   400            0.998                 0.93   0.467 \n",
      "   410                1                0.918   0.443 \n",
      "   420             1.01                0.906    0.42 \n",
      "   430             1.02                0.895   0.396 \n",
      "   440             1.03                0.886   0.371 \n",
      "   450             1.03                0.878   0.347 \n",
      "   460             1.04                0.871   0.322 \n",
      "   470             1.05                0.865   0.298 \n",
      "   480             1.05                 0.86   0.274 \n",
      "   490             1.05                0.856   0.251 \n",
      "   500             1.05                0.853   0.227 \n",
      "   510             1.05                0.853   0.205 \n",
      "   520             1.05                0.854   0.183 \n",
      "   530             1.04                0.857   0.162 \n",
      "   540             1.04                0.863   0.142 \n",
      "   550             1.03                0.872   0.124 \n",
      "   560             1.02                0.883   0.107 \n",
      "   570                1                0.898  0.0923 \n",
      "   580            0.987                0.916  0.0797 \n",
      "   590            0.969                0.937  0.0693 \n",
      "   600            0.949                0.961  0.0612 \n",
      "   610            0.927                0.988  0.0551 \n",
      "   620            0.904                 1.02  0.0511 \n",
      "   630             0.88                 1.05  0.0489 \n",
      "   640            0.856                 1.08  0.0485 \n",
      "   650            0.832                 1.12  0.0495 \n",
      "   660            0.809                 1.16  0.0518 \n",
      "   670            0.789                 1.19  0.0548 \n",
      "   680            0.771                 1.22  0.0581 \n",
      "   690            0.755                 1.25  0.0619 \n",
      "   700             0.74                 1.28  0.0657 \n",
      "   710            0.728                  1.3  0.0694 \n",
      "   720            0.717                 1.32   0.073 \n",
      "   730            0.708                 1.34  0.0764 \n",
      "   740              0.7                 1.36  0.0794 \n",
      "   750            0.694                 1.37   0.082 \n",
      "   760            0.689                 1.38  0.0841 \n",
      "   770            0.684                 1.39  0.0856 \n",
      "   780             0.68                  1.4  0.0865 \n",
      "   790            0.677                 1.41  0.0868 \n",
      "   800            0.675                 1.41  0.0864 \n",
      "   810            0.672                 1.42  0.0854 \n",
      "   820             0.67                 1.42  0.0839 \n",
      "   830            0.668                 1.43  0.0818 \n",
      "   840            0.665                 1.43  0.0795 \n",
      "   850            0.662                 1.44  0.0768 \n",
      "   860            0.659                 1.45  0.0739 \n",
      "   870            0.656                 1.45   0.071 \n",
      "   880            0.653                 1.46  0.0681 \n",
      "   890            0.649                 1.47  0.0652 \n",
      "   900            0.645                 1.48  0.0626 \n",
      "   910            0.641                 1.49  0.0602 \n",
      "   920            0.637                  1.5  0.0581 \n",
      "   930            0.634                 1.51  0.0563 \n",
      "   940             0.63                 1.52  0.0549 \n",
      "   950            0.626                 1.53  0.0538 \n",
      "   960            0.622                 1.53  0.0532 \n",
      "   970            0.619                 1.54  0.0528 \n",
      "   980            0.616                 1.55  0.0529 \n",
      "   990            0.613                 1.56  0.0532 \n"
     ]
    }
   ],
   "source": [
    "counter = 0\n",
    "gloss = []\n",
    "dloss = []\n",
    "kl_div = []\n",
    "best_gen_params = get_params(generator)\n",
    "table_headers = \"Epoch / Generator cost / Discriminator cost / KL Div\"\n",
    "print(table_headers)\n",
    "\n",
    "for epoch in range(1000):\n",
    "\n",
    "    # Generate fake and real samples\n",
    "    fake_probs = generator.forward()\n",
    "    fake_probs = torch.Tensor(fake_probs)\n",
    "    real_probs = Statevector(real_circ).probabilities()\n",
    "    real_probs = torch.Tensor(real_probs)\n",
    "\n",
    "    # Train generator\n",
    "    genOptim.zero_grad()\n",
    "\n",
    "    outFake = discriminator(fake_probs)\n",
    "    gen_fakeErr = criterion(outFake, real_label)\n",
    "    gloss.append(gen_fakeErr)\n",
    "    gen_fakeErr.backward()\n",
    "    genOptim.step()\n",
    "\n",
    "    # Train discriminator\n",
    "    discOptim.zero_grad()\n",
    "\n",
    "    # Generate fake and real samples\n",
    "    fake_probs = generator.forward()\n",
    "    fake_probs = torch.Tensor(fake_probs)\n",
    "    real_probs = Statevector(real_circ).probabilities()\n",
    "    real_probs = torch.Tensor(real_probs)\n",
    "\n",
    "    outReal = discriminator(real_probs)\n",
    "    outFake = discriminator(fake_probs.detach())\n",
    "\n",
    "    # Discriminator errors\n",
    "    disc_realErr = criterion(outReal, real_label)\n",
    "    disc_fakeErr = criterion(outFake, fake_label)\n",
    "\n",
    "    # Propagate gradients\n",
    "    disc_fakeErr.backward()\n",
    "    disc_realErr.backward()\n",
    "\n",
    "    disc_err = disc_fakeErr + disc_realErr\n",
    "    dloss.append(disc_err)\n",
    "    discOptim.step()\n",
    "\n",
    "    # Save best generator parameters\n",
    "    curr_gen_params = get_params(generator)\n",
    "    checkpoint_gen_circ = gen_circ.bind_parameters(curr_gen_params)\n",
    "    # Retrieve probability distribution of current generator\n",
    "    gen_prob_dict = Statevector(checkpoint_gen_circ).probabilities_dict()\n",
    "    # Constant real probability distribution\n",
    "    real_prob_dict = Statevector(real_circ).probabilities_dict()\n",
    "\n",
    "    current_kl = calculate_KL(gen_prob_dict, real_prob_dict)\n",
    "    kl_div.append(current_kl)\n",
    "    if np.min(kl_div) == current_kl: \n",
    "        # New best\n",
    "        # serialize+deserialize to simply ensure zero links\n",
    "        best_gen_params = pickle.loads(pickle.dumps(curr_gen_params))\n",
    "        best_gen_info = [epoch, gloss[-1], dloss[-1], kl_div[-1]]\n",
    "\n",
    "    if epoch % 10 == 0:\n",
    "        # print table for every 10 epochs\n",
    "        for header, val in zip(table_headers.split('/'),\n",
    "                              (epoch, gloss[-1], dloss[-1], kl_div[-1])):\n",
    "            print(f\"{val:.3g} \".rjust(len(header)+1), end=\"\")\n",
    "        print()\n"
   ]
  },
  {
   "cell_type": "code",
   "execution_count": 12,
   "id": "8256365d-5a8d-47dc-a377-7452ac3478e1",
   "metadata": {},
   "outputs": [
    {
     "name": "stdout",
     "output_type": "stream",
     "text": [
      "Best KL (at epoch 638): 0.04845844443000719\n"
     ]
    },
    {
     "data": {
      "image/png": "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\n",
      "text/plain": [
       "<Figure size 864x216 with 3 Axes>"
      ]
     },
     "metadata": {
      "needs_background": "light"
     },
     "output_type": "display_data"
    }
   ],
   "source": [
    "print(\"Best KL (at epoch {}): {}\".format(best_gen_info[0], best_gen_info[-1]))\n",
    "\n",
    "gen_circ_fin = generator.neural_network.circuit.bind_parameters(best_gen_params)\n",
    "\n",
    "gen_dict = Statevector(gen_circ_fin).probabilities_dict()\n",
    "real_dict = Statevector(real_circ).probabilities_dict() # constant\n",
    "\n",
    "fig, (ax1, ax2, ax3) = plt.subplots(1, 3, figsize=(12,3))\n",
    "plot_histogram(init_prob_dict, ax=ax1)\n",
    "ax1.set_title(\"Initial generator distribution\")\n",
    "plot_histogram(gen_dict, ax=ax2)\n",
    "ax2.set_title(\"Trained generator distribution\")\n",
    "plot_histogram(real_dict, ax=ax3)\n",
    "ax3.set_title(\"Real distribution\")\n",
    "fig.tight_layout()\n"
   ]
  },
  {
   "cell_type": "code",
   "execution_count": 13,
   "id": "2532ca89-21e9-4d32-90a5-5882d23f5881",
   "metadata": {},
   "outputs": [
    {
     "data": {
      "image/png": "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\n",
      "text/plain": [
       "<Figure size 432x288 with 1 Axes>"
      ]
     },
     "metadata": {
      "needs_background": "light"
     },
     "output_type": "display_data"
    }
   ],
   "source": [
    "plt.plot(kl_div, color='black')\n",
    "plt.xlabel('Epoch')\n",
    "plt.ylabel('KL Div')\n"
   ]
  },
  {
   "cell_type": "markdown",
   "id": "d6457692-a7ba-4a4b-9ecb-1bbea07d4ac8",
   "metadata": {},
   "source": [
    "# Classical GAN\n",
    "\n",
    "In this section we will implement a classical generator and then train to learn probability distribution of the real circuit.\n",
    "\n",
    "Let's begin with defining a Generator class."
   ]
  },
  {
   "cell_type": "code",
   "execution_count": 14,
   "id": "e47bf5e1-a5b2-4a4f-8ade-d678f2b0360d",
   "metadata": {},
   "outputs": [],
   "source": [
    "# We define the classical generator as a MLP with a dimensionality that is not overly complex.\n",
    "class Generator(nn.Module):\n",
    "    def __init__(self):\n",
    "        \n",
    "        super().__init__()\n",
    "        self.generate = nn.Sequential(nn.Linear(8, 6*8), nn.Tanh(), \n",
    "                                      nn.Linear(6*8, 5*8), nn.Tanh(), \n",
    "                                      nn.Linear(5*8, 8), nn.Tanh(), \n",
    "                                      nn.Linear(8, 8), nn.Tanh(), \n",
    "                                      nn.Linear(8, 8), nn.Tanh(), \n",
    "                                      nn.Linear(8, 8), nn.Tanh(), \n",
    "                                      nn.Linear(8, 8))\n",
    "        \n",
    "    def forward(self, x):\n",
    "        x = self.generate(x)\n",
    "        return x"
   ]
  },
  {
   "cell_type": "markdown",
   "id": "3e618cea-370b-491f-801e-cb99a1f668a5",
   "metadata": {},
   "source": [
    "Then we train the classical GAN using the exact same optimizers, loss function and number of epochs as we did for the quantum case. "
   ]
  },
  {
   "cell_type": "code",
   "execution_count": 15,
   "id": "a34d3a17-90bf-4ed0-8eba-6aeca6eb46ba",
   "metadata": {},
   "outputs": [],
   "source": [
    "discriminator = Discriminator()\n",
    "generator = Generator()\n",
    "# Optimizers\n",
    "discOptim = optim.Adam(discriminator.parameters(), lr=0.0002)\n",
    "genOptim = optim.Adam(generator.parameters(), lr=0.0002)\n",
    "\n",
    "# Loss function\n",
    "criterion = nn.BCELoss()\n",
    "\n",
    "# Labels\n",
    "real_label = torch.full((1,), 1.0, dtype=torch.float)\n",
    "fake_label = torch.full((1,), 0.0, dtype=torch.float)\n"
   ]
  },
  {
   "cell_type": "code",
   "execution_count": 16,
   "id": "b0ce9225-cd02-4462-859e-ada405a901f2",
   "metadata": {},
   "outputs": [],
   "source": [
    "for epoch in range(1000):\n",
    "    \n",
    "    # Generate fake and real samples\n",
    "    noise = torch.randn(8)\n",
    "    fake_probs = generator.forward(noise)\n",
    "    real_probs = Statevector(real_circ).probabilities()\n",
    "    real_probs = torch.Tensor(real_probs)\n",
    "     # Train generator\n",
    "    genOptim.zero_grad()\n",
    "\n",
    "    outFake = discriminator(fake_probs)\n",
    "    gen_fakeErr = criterion(outFake, real_label)\n",
    "    gloss.append(gen_fakeErr)\n",
    "    gen_fakeErr.backward()\n",
    "    genOptim.step()\n",
    "    \n",
    "    # Train discriminator\n",
    "    discOptim.zero_grad()\n",
    "\n",
    "\n",
    "    outReal = discriminator(real_probs)\n",
    "    outFake = discriminator(fake_probs.detach())\n",
    "\n",
    "    # Discriminator errors\n",
    "    disc_realErr = criterion(outReal, real_label)\n",
    "    disc_fakeErr = criterion(outFake, fake_label)\n",
    "\n",
    "    # Propagate gradients\n",
    "    disc_fakeErr.backward()\n",
    "    disc_realErr.backward()\n",
    "\n",
    "    disc_err = disc_fakeErr + disc_realErr\n",
    "    dloss.append(disc_err)\n",
    "    discOptim.step()\n"
   ]
  },
  {
   "cell_type": "markdown",
   "id": "436e6c54-e99f-4b1a-a3fe-b0f6248b8551",
   "metadata": {},
   "source": [
    "Now we visualize the final results from the trained classical generator:"
   ]
  },
  {
   "cell_type": "code",
   "execution_count": 17,
   "id": "0c35a4ba-f416-40d5-91ca-c9c352af041f",
   "metadata": {},
   "outputs": [
    {
     "data": {
      "text/plain": [
       "<bound method Figure.tight_layout of <Figure size 576x216 with 2 Axes>>"
      ]
     },
     "execution_count": 17,
     "metadata": {},
     "output_type": "execute_result"
    },
    {
     "data": {
      "image/png": "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\n",
      "text/plain": [
       "<Figure size 576x216 with 2 Axes>"
      ]
     },
     "metadata": {
      "needs_background": "light"
     },
     "output_type": "display_data"
    }
   ],
   "source": [
    "noise = torch.randn(8)\n",
    "fake_probs = generator.forward(noise).detach().numpy()\n",
    "real_probs = Statevector(real_circ).probabilities()\n",
    "\n",
    "xvals = ['000', '001', '010'\n",
    "         , '011', '100', '101', '110', '111']\n",
    "fig, (ax1, ax2) = plt.subplots(1, 2, figsize=(8,3))\n",
    "ax1.hist(xvals, bins=8, weights=fake_probs)\n",
    "ax1.set_title(\"Trained generator distribution\")\n",
    "ax2.hist(xvals, bins=8, weights=real_probs)\n",
    "ax2.set_title(\"Real distribution\")\n",
    "fig.tight_layout"
   ]
  },
  {
   "cell_type": "code",
   "execution_count": null,
   "id": "00cfa81d-c489-43bd-99f7-a9fccc5e9bd7",
   "metadata": {},
   "outputs": [],
   "source": []
  }
 ],
 "metadata": {
  "kernelspec": {
   "display_name": "Python 3",
   "language": "python",
   "name": "python3"
  },
  "language_info": {
   "codemirror_mode": {
    "name": "ipython",
    "version": 3
   },
   "file_extension": ".py",
   "mimetype": "text/x-python",
   "name": "python",
   "nbconvert_exporter": "python",
   "pygments_lexer": "ipython3",
   "version": "3.6.9"
  }
 },
 "nbformat": 4,
 "nbformat_minor": 5
}
